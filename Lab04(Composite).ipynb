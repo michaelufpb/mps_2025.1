{
  "nbformat": 4,
  "nbformat_minor": 0,
  "metadata": {
    "colab": {
      "provenance": []
    },
    "kernelspec": {
      "name": "python3",
      "display_name": "Python 3"
    },
    "language_info": {
      "name": "python"
    }
  },
  "cells": [
    {
      "cell_type": "markdown",
      "source": [
        "# Atividade: Padrão de Projeto Composite em Python\n"
      ],
      "metadata": {
        "id": "HEN3wjiNoqjf"
      }
    },
    {
      "cell_type": "code",
      "source": [
        "from abc import ABC, abstractmethod\n",
        "\n",
        "class ComponenteCadastro(ABC):\n",
        "\n",
        "    def __init__(self, nome: str):\n",
        "        self._nome = nome\n",
        "\n",
        "    @abstractmethod\n",
        "    def exibir(self, nivel=0):\n",
        "        pass\n",
        "\n",
        "    def adicionar(self, componente: 'ComponenteCadastro'):\n",
        "        raise NotImplementedError(\"Este componente não suporta a adição de filhos.\")\n",
        "\n",
        "    def remover(self, componente: 'ComponenteCadastro'):\n",
        "        raise NotImplementedError(\"Este componente não suporta a remoção de filhos.\")\n",
        "\n",
        "print(\"Interface 'ComponenteCadastro' definida\")"
      ],
      "metadata": {
        "colab": {
          "base_uri": "https://localhost:8080/"
        },
        "id": "jTm7oZ2Mo45l",
        "outputId": "c6856751-269a-4861-e720-f39ad3f4d77e"
      },
      "execution_count": 14,
      "outputs": [
        {
          "output_type": "stream",
          "name": "stdout",
          "text": [
            "Interface 'ComponenteCadastro' definida\n"
          ]
        }
      ]
    },
    {
      "cell_type": "code",
      "source": [
        "class ItemSimples(ComponenteCadastro):\n",
        "\n",
        "    def __init__(self, nome: str, valor: any):\n",
        "        super().__init__(nome)\n",
        "        self._valor = valor\n",
        "\n",
        "    def exibir(self, nivel=0):\n",
        "        indentacao = \"  \" * nivel\n",
        "        print(f\"{indentacao}- {self._nome}: {self._valor}\")\n",
        "\n",
        "class SecaoComposta(ComponenteCadastro):\n",
        "\n",
        "    def __init__(self, nome: str):\n",
        "        super().__init__(nome)\n",
        "        self._filhos: list[ComponenteCadastro] = []\n",
        "\n",
        "    def adicionar(self, componente: ComponenteCadastro):\n",
        "        self._filhos.append(componente)\n",
        "\n",
        "    def remover(self, componente: ComponenteCadastro):\n",
        "        self._filhos.remove(componente)\n",
        "\n",
        "    def exibir(self, nivel=0):\n",
        "\n",
        "        indentacao = \"  \" * nivel\n",
        "        print(f\"\\n{indentacao}>> {self._nome.upper()} <<\")\n",
        "\n",
        "        for filho in self._filhos:\n",
        "            filho.exibir(nivel + 1)\n",
        "\n",
        "print(\"Classes 'ItemSimples' (folha) e 'SecaoComposta' (Composite) definidas\")"
      ],
      "metadata": {
        "colab": {
          "base_uri": "https://localhost:8080/"
        },
        "id": "swORq6qMpB1j",
        "outputId": "0539e77e-28b9-4fd5-ef1c-e75e5ff78857"
      },
      "execution_count": 15,
      "outputs": [
        {
          "output_type": "stream",
          "name": "stdout",
          "text": [
            "Classes 'ItemSimples' (folha) e 'SecaoComposta' (Composite) definidas\n"
          ]
        }
      ]
    },
    {
      "cell_type": "markdown",
      "source": [
        "## 2. Montando a Estrutura do Colaborador\n",
        "\n",
        "Agora que as classes do padrão Composite estão definidas, vamos utilizá-las para construir a árvore de objetos que representa o cadastro de um colaborador\n"
      ],
      "metadata": {
        "id": "SAbZzdzIpGYF"
      }
    },
    {
      "cell_type": "code",
      "source": [
        "cadastro_colaborador = SecaoComposta(\"Cadastro do Colaborador: Raoni Kulesza\")\n",
        "\n",
        "#Seções principais\n",
        "secao_pessoal = SecaoComposta(\"Dados Pessoais\")\n",
        "secao_admissional = SecaoComposta(\"Dados Admissionais\")\n",
        "secao_documentos = SecaoComposta(\"Documentos\")\n",
        "\n",
        "# Seções principais ao cadastro raiz\n",
        "cadastro_colaborador.adicionar(secao_pessoal)\n",
        "cadastro_colaborador.adicionar(secao_admissional)\n",
        "cadastro_colaborador.adicionar(secao_documentos)\n",
        "\n",
        "# Seção \"Dados Pessoais\" com subseções e itens\n",
        "subsecao_contatos = SecaoComposta(\"Contatos\")\n",
        "subsecao_contatos.adicionar(ItemSimples(\"Telefone\", \"(83) 3291-1528\"))\n",
        "subsecao_contatos.adicionar(ItemSimples(\"Email\", \"raoni@ci.ufpb.br\"))\n",
        "\n",
        "subsecao_dependentes = SecaoComposta(\"Dependentes\")\n",
        "subsecao_dependentes.adicionar(ItemSimples(\"Filho\", \"Raoni Kulesza Filho\"))\n",
        "\n",
        "secao_pessoal.adicionar(ItemSimples(\"Data de Nascimento\", \"01/01/1975\"))\n",
        "secao_pessoal.adicionar(subsecao_contatos)\n",
        "secao_pessoal.adicionar(subsecao_dependentes)\n",
        "\n",
        "# Outras seções: Admissão Endereço e Documentos\n",
        "secao_admissional.adicionar(ItemSimples(\"Cargo\", \"Desenvolvedor de Software Sênior\"))\n",
        "secao_admissional.adicionar(ItemSimples(\"Salário\", 10000.00))\n",
        "secao_admissional.adicionar(ItemSimples(\"Data de Admissão\", \"01/10/2025\"))\n",
        "\n",
        "secao_documentos.adicionar(ItemSimples(\"CPF\", \"111.222.333-44\"))\n",
        "secao_documentos.adicionar(ItemSimples(\"RG\", \"55.666.777-8\"))\n",
        "\n",
        "print(\"Estrutura do cadastro do colaborador 'Raoni Kulesza' foi montada com sucesso\")"
      ],
      "metadata": {
        "colab": {
          "base_uri": "https://localhost:8080/"
        },
        "id": "5oSQkZiLpKmP",
        "outputId": "b71bb9dc-647e-4628-cddb-07c4345547d4"
      },
      "execution_count": 16,
      "outputs": [
        {
          "output_type": "stream",
          "name": "stdout",
          "text": [
            "Estrutura do cadastro do colaborador 'Raoni Kulesza' foi montada com sucesso\n"
          ]
        }
      ]
    },
    {
      "cell_type": "markdown",
      "source": [
        "## 3. Executando e Visualizando o Resultado\n",
        "\n",
        "Com toda a estrutura montada, basta chamar o método `exibir()` no objeto raiz (`cadastro_colaborador`). O padrão Composite se encarregará de percorrer toda a árvore recursivamente e exibir cada componente de forma apropriada"
      ],
      "metadata": {
        "id": "XC7ls3HOptdY"
      }
    },
    {
      "cell_type": "code",
      "source": [
        "print(\"Exibindo o Cadastro Completo do Colaborador\")\n",
        "\n",
        "# Única chamada mas que contém toda a recursividade do Cadastro do Colaborador\n",
        "cadastro_colaborador.exibir()"
      ],
      "metadata": {
        "colab": {
          "base_uri": "https://localhost:8080/"
        },
        "id": "tuyowEXupvWJ",
        "outputId": "993ef5e8-686b-4a09-c9c6-d5a61e4be503"
      },
      "execution_count": 17,
      "outputs": [
        {
          "output_type": "stream",
          "name": "stdout",
          "text": [
            "Exibindo o Cadastro Completo do Colaborador\n",
            "\n",
            ">> CADASTRO DO COLABORADOR: RAONI KULESZA <<\n",
            "\n",
            "  >> DADOS PESSOAIS <<\n",
            "    - Data de Nascimento: 01/01/1975\n",
            "\n",
            "    >> CONTATOS <<\n",
            "      - Telefone: (83) 3291-1528\n",
            "      - Email: raoni@ci.ufpb.br\n",
            "\n",
            "    >> DEPENDENTES <<\n",
            "      - Filho: Raoni Kulesza Filho\n",
            "\n",
            "  >> DADOS ADMISSIONAIS <<\n",
            "    - Cargo: Desenvolvedor de Software Sênior\n",
            "    - Salário: 10000.0\n",
            "    - Data de Admissão: 01/10/2025\n",
            "\n",
            "  >> DOCUMENTOS <<\n",
            "    - CPF: 111.222.333-44\n",
            "    - RG: 55.666.777-8\n"
          ]
        }
      ]
    },
    {
      "cell_type": "markdown",
      "source": [
        "## Bônus: Demonstrando a Flexibilidade do Padrão\n",
        "\n",
        "Uma das maiores vantagens do padrão Composite é a facilidade com que a estrutura pode ser modificada em tempo de execução, sem a necessidade de alterar a lógica das classes existentes\n",
        "\n",
        "Para ilustrar isso, vamos simular uma situação comum: após o cadastro inicial, o RH precisa adicionar novas informações\n",
        "\n",
        "1.  Uma **seção inteiramente nova** de \"Endereço\"\n",
        "2.  Um **novo documento** (\"CNH\") à seção de \"Documentos\" que já existe\n",
        "\n",
        "Em um sistema sem o padrão Composite, isso poderia exigir condicionais (`if/else`) ou novos métodos de exibição. Aqui, simplesmente usaremos o método `.adicionar()` que já possuímos. Vamos ver como é simples"
      ],
      "metadata": {
        "id": "cvJNWjq_qVWX"
      }
    },
    {
      "cell_type": "code",
      "source": [
        "\n",
        "\n",
        "print(\"Modificando a estrutura do cadastro existente\\n\")\n",
        "\n",
        "#Seção de Endereço\n",
        "secao_endereco = SecaoComposta(\"Endereço\")\n",
        "secao_endereco.adicionar(ItemSimples(\"Logradouro\", \"Avenida dos Escoteiros, s/n\"))\n",
        "secao_endereco.adicionar(ItemSimples(\"Cidade\", \"João Pessoa\"))\n",
        "secao_endereco.adicionar(ItemSimples(\"CEP\", \"58055-000\"))\n",
        "\n",
        "# Adicionando a seção de Endereço inteira ao cadastro principal\n",
        "cadastro_colaborador.adicionar(secao_endereco)\n",
        "print(\"Nova seção 'Endereço' adicionada\")\n",
        "\n",
        "# Adicionando um novo documento (CNH) à seção de Documentos já existente\n",
        "# (A variável `secao_documentos` ainda existe e mantém sua referência)\n",
        "secao_documentos.adicionar(ItemSimples(\"CNH\", \"00000000\"))\n",
        "print(\"Novo item 'CNH' adicionado à seção 'Documentos'\")\n",
        "\n",
        "print(\"Exibindo o Cadastro Arualizado\")\n",
        "\n",
        "cadastro_colaborador.exibir()\n"
      ],
      "metadata": {
        "colab": {
          "base_uri": "https://localhost:8080/"
        },
        "id": "8TOlLYyWqYYG",
        "outputId": "aa7063f8-8317-4a47-f658-d5d36ba5c83c"
      },
      "execution_count": 18,
      "outputs": [
        {
          "output_type": "stream",
          "name": "stdout",
          "text": [
            "Modificando a estrutura do cadastro existente\n",
            "\n",
            "Nova seção 'Endereço' adicionada\n",
            "Novo item 'CNH' adicionado à seção 'Documentos'\n",
            "Exibindo o Cadastro Arualizado\n",
            "\n",
            ">> CADASTRO DO COLABORADOR: RAONI KULESZA <<\n",
            "\n",
            "  >> DADOS PESSOAIS <<\n",
            "    - Data de Nascimento: 01/01/1975\n",
            "\n",
            "    >> CONTATOS <<\n",
            "      - Telefone: (83) 3291-1528\n",
            "      - Email: raoni@ci.ufpb.br\n",
            "\n",
            "    >> DEPENDENTES <<\n",
            "      - Filho: Raoni Kulesza Filho\n",
            "\n",
            "  >> DADOS ADMISSIONAIS <<\n",
            "    - Cargo: Desenvolvedor de Software Sênior\n",
            "    - Salário: 10000.0\n",
            "    - Data de Admissão: 01/10/2025\n",
            "\n",
            "  >> DOCUMENTOS <<\n",
            "    - CPF: 111.222.333-44\n",
            "    - RG: 55.666.777-8\n",
            "    - CNH: 00000000\n",
            "\n",
            "  >> ENDEREÇO <<\n",
            "    - Logradouro: Avenida dos Escoteiros, s/n\n",
            "    - Cidade: João Pessoa\n",
            "    - CEP: 58055-000\n"
          ]
        }
      ]
    }
  ]
}